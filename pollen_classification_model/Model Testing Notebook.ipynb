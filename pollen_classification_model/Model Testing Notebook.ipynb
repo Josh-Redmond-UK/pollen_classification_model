{
 "cells": [
  {
   "cell_type": "code",
   "execution_count": 1,
   "id": "07892df5",
   "metadata": {},
   "outputs": [],
   "source": [
    "from model import efficientNetB3"
   ]
  },
  {
   "cell_type": "code",
   "execution_count": 2,
   "id": "2e8340af",
   "metadata": {},
   "outputs": [],
   "source": [
    "model = efficientNetB3(\"https://connectionsworkshop.blob.core.windows.net/pollen/pollen_93.67.h5\")"
   ]
  },
  {
   "cell_type": "code",
   "execution_count": 3,
   "id": "57a1c5c5",
   "metadata": {},
   "outputs": [],
   "source": [
    "import skimage.io"
   ]
  },
  {
   "cell_type": "code",
   "execution_count": 4,
   "id": "4b805e2c",
   "metadata": {},
   "outputs": [],
   "source": [
    "import matplotlib.pyplot as plt"
   ]
  },
  {
   "cell_type": "code",
   "execution_count": null,
   "id": "f62e02d3",
   "metadata": {},
   "outputs": [],
   "source": []
  },
  {
   "cell_type": "code",
   "execution_count": 5,
   "id": "6311fa7c",
   "metadata": {},
   "outputs": [],
   "source": [
    "testImage = plt.imread(\"urochloa_23.jpg\")"
   ]
  },
  {
   "cell_type": "code",
   "execution_count": 7,
   "id": "f93a75f4",
   "metadata": {},
   "outputs": [
    {
     "data": {
      "text/plain": [
       "'urochloa'"
      ]
     },
     "execution_count": 7,
     "metadata": {},
     "output_type": "execute_result"
    }
   ],
   "source": [
    "model.predict(testImage)"
   ]
  }
 ],
 "metadata": {
  "kernelspec": {
   "display_name": "Python 3 (ipykernel)",
   "language": "python",
   "name": "python3"
  },
  "language_info": {
   "codemirror_mode": {
    "name": "ipython",
    "version": 3
   },
   "file_extension": ".py",
   "mimetype": "text/x-python",
   "name": "python",
   "nbconvert_exporter": "python",
   "pygments_lexer": "ipython3",
   "version": "3.8.13"
  }
 },
 "nbformat": 4,
 "nbformat_minor": 5
}
