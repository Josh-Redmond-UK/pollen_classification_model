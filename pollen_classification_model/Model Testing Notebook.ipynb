{
 "cells": [
  {
   "cell_type": "code",
   "execution_count": null,
   "id": "c830d5f3",
   "metadata": {},
   "outputs": [],
   "source": [
    "from model import efficientNetB3, CLASS_LABELS\n",
    "from urllib.request import urlopen\n",
    "from zipfile import ZipFile\n",
    "import glob\n",
    "import os\n",
    "\n"
   ]
  },
  {
   "cell_type": "code",
   "execution_count": null,
   "id": "6e20dc04",
   "metadata": {},
   "outputs": [],
   "source": [
    "model = efficientNetB3(\"https://connectionsworkshop.blob.core.windows.net/pollen/pollen_93.67.h5\")"
   ]
  },
  {
   "cell_type": "code",
   "execution_count": null,
   "id": "10f883e8",
   "metadata": {},
   "outputs": [],
   "source": [
    "import skimage.io"
   ]
  },
  {
   "cell_type": "code",
   "execution_count": null,
   "id": "f3ed3099",
   "metadata": {},
   "outputs": [],
   "source": [
    "import matplotlib.pyplot as plt"
   ]
  },
  {
   "cell_type": "code",
   "execution_count": null,
   "id": "bb23aec3",
   "metadata": {},
   "outputs": [],
   "source": []
  },
  {
   "cell_type": "code",
   "execution_count": null,
   "id": "ddc579f9",
   "metadata": {},
   "outputs": [],
   "source": []
  },
  {
   "cell_type": "code",
   "execution_count": null,
   "id": "30ef75c4",
   "metadata": {},
   "outputs": [],
   "source": [
    "# Download and unzip pollen dataset"
   ]
  },
  {
   "cell_type": "code",
   "execution_count": null,
   "id": "8f4df553",
   "metadata": {},
   "outputs": [],
   "source": [
    "url = 'https://zenodo.org/record/7113865/files/PollenData.zip'\n",
    "zipresp = urlopen(url)\n",
    "tempzip = open(\"tempfile.zip\", \"wb\")\n",
    "tempzip.write(zipresp.read())\n",
    "tempzip.close()\n",
    "zf = ZipFile(\"tempfile.zip\")\n",
    "zf.extractall(path = 'PollenGrainImages')\n",
    "zf.close()"
   ]
  },
  {
   "cell_type": "code",
   "execution_count": null,
   "id": "fe103f02",
   "metadata": {},
   "outputs": [],
   "source": [
    "# Load images into memory along with class labels"
   ]
  },
  {
   "cell_type": "code",
   "execution_count": null,
   "id": "3fe785c8",
   "metadata": {},
   "outputs": [],
   "source": [
    "imagePaths = glob.glob(\"PollenGrainImages/*.jpg\")"
   ]
  },
  {
   "cell_type": "code",
   "execution_count": null,
   "id": "fd30330e",
   "metadata": {},
   "outputs": [],
   "source": [
    "images = []\n",
    "classes = []\n",
    "for ip in imagePaths:\n",
    "    try:\n",
    "        array = plt.imread(ip)\n",
    "        clasif = os.path.basename(ip).split(\"_\")[0]\n",
    "        images.append(array)\n",
    "        classes.append(clasif)\n",
    "    except:\n",
    "        pass"
   ]
  },
  {
   "cell_type": "code",
   "execution_count": null,
   "id": "c7ce162f",
   "metadata": {},
   "outputs": [],
   "source": [
    "predictions = [model.predict(a) for a in images]"
   ]
  },
  {
   "cell_type": "code",
   "execution_count": null,
   "id": "44526913",
   "metadata": {},
   "outputs": [],
   "source": [
    "# Produce a confusion matrix for the model predictions"
   ]
  },
  {
   "cell_type": "code",
   "execution_count": null,
   "id": "9920a87d",
   "metadata": {},
   "outputs": [],
   "source": [
    "from sklearn.metrics import confusion_matrix\n",
    "cf = confusion_matrix(classes, predictions)"
   ]
  },
  {
   "cell_type": "code",
   "execution_count": null,
   "id": "6dc16bb4",
   "metadata": {},
   "outputs": [],
   "source": [
    "import seaborn as sns\n",
    "ax = plt.subplot()\n",
    "plt.imshow(cf)\n",
    "sns.heatmap(cf, annot=True, fmt='g', ax=ax);  #annot=True to annotate cells, ftm='g' to disable scientific notation\n",
    "\n",
    "ax.xaxis.set_ticklabels(CLASS_LABELS)\n",
    "ax.yaxis.set_ticklabels(CLASS_LABELS)\n",
    "plt.show()\n"
   ]
  },
  {
   "cell_type": "code",
   "execution_count": null,
   "id": "a6e8aceb",
   "metadata": {},
   "outputs": [],
   "source": []
  }
 ],
 "metadata": {
  "kernelspec": {
   "display_name": "Python 3 (ipykernel)",
   "language": "python",
   "name": "python3"
  },
  "language_info": {
   "codemirror_mode": {
    "name": "ipython",
    "version": 3
   },
   "file_extension": ".py",
   "mimetype": "text/x-python",
   "name": "python",
   "nbconvert_exporter": "python",
   "pygments_lexer": "ipython3",
   "version": "3.8.13"
  }
 },
 "nbformat": 4,
 "nbformat_minor": 5
}
